{
 "cells": [
  {
   "cell_type": "code",
   "execution_count": 2,
   "id": "464ed007-e167-4370-b3f6-57b5bd40e019",
   "metadata": {},
   "outputs": [],
   "source": [
    "import pandas as pd\n",
    "import numpy as np\n",
    "from sklearn.model_selection import train_test_split\n",
    "from sklearn.linear_model import LinearRegression\n",
    "from sklearn.preprocessing import PolynomialFeatures\n",
    "from sklearn.pipeline import make_pipeline\n",
    "from sklearn.ensemble import RandomForestRegressor, GradientBoostingRegressor\n",
    "from sklearn.metrics import r2_score, mean_absolute_error, mean_squared_error\n",
    "from IPython.display import display"
   ]
  },
  {
   "cell_type": "code",
   "execution_count": 3,
   "id": "4b8a3a36-50a7-4f01-88cf-884b36b3949e",
   "metadata": {},
   "outputs": [],
   "source": [
    "# 1. Load dataset\n",
    "df = pd.read_csv(\"WWTP/main_2023.csv\")"
   ]
  },
  {
   "cell_type": "code",
   "execution_count": 4,
   "id": "121052e9-77c7-4eec-b8de-b488808d4fe6",
   "metadata": {},
   "outputs": [],
   "source": [
    "# 2. Create lag feature for linear regression model\n",
    "df['Nitrate_lag1'] = df['Nitrate'].shift(1)\n",
    "df = df.dropna().reset_index(drop=True)"
   ]
  },
  {
   "cell_type": "code",
   "execution_count": 5,
   "id": "725ea202-eb7b-400e-8602-f99e7a930014",
   "metadata": {},
   "outputs": [],
   "source": [
    "# 3. Define feature sets and target\n",
    "features_base = [\"Influent\", \"oxygen_avg\", \"Ammonium\", \"Phosphate\", \"Temperature\"]\n",
    "features_lr   = features_base + [\"Nitrate_lag1\"]\n",
    "\n",
    "X_base = df[features_base]\n",
    "X_lr   = df[features_lr]\n",
    "y = df[\"Nitrate\"]\n",
    "nitrate_range = y.max() - y.min()"
   ]
  },
  {
   "cell_type": "code",
   "execution_count": 6,
   "id": "24bbbcf1-f87c-4a99-86d7-b402174323f0",
   "metadata": {},
   "outputs": [],
   "source": [
    "# 4. Train/test split (same split for all models)\n",
    "X_base_train, X_base_test, X_lr_train, X_lr_test, y_train, y_test = train_test_split(\n",
    "    X_base, X_lr, y, test_size=0.2, random_state=42\n",
    ")"
   ]
  },
  {
   "cell_type": "code",
   "execution_count": 7,
   "id": "53c193cb-b3f7-4487-a103-0e601d8ba016",
   "metadata": {},
   "outputs": [],
   "source": [
    "# 5. Define all models\n",
    "models = {\n",
    "    \"Linear Regression (with lag)\": LinearRegression(),\n",
    "    \"Polynomial Regression (deg=3)\": make_pipeline(PolynomialFeatures(3), LinearRegression()),\n",
    "    \"Random Forest\": RandomForestRegressor(n_estimators=200, max_depth=None, max_features='sqrt', random_state=42),\n",
    "    \"Gradient Boosting\": GradientBoostingRegressor(n_estimators=100, learning_rate=0.1, max_depth=5, random_state=42)\n",
    "}"
   ]
  },
  {
   "cell_type": "code",
   "execution_count": 8,
   "id": "7a1f88c0-51d9-47e8-bab1-7d17981177b9",
   "metadata": {},
   "outputs": [],
   "source": [
    "# 6. Evaluate models and collect metrics\n",
    "results = []\n",
    "for name, model in models.items():\n",
    "    if name == \"Linear Regression (with lag)\":\n",
    "        model.fit(X_lr_train, y_train)\n",
    "        y_pred = model.predict(X_lr_test)\n",
    "    else:\n",
    "        model.fit(X_base_train, y_train)\n",
    "        y_pred = model.predict(X_base_test)\n",
    "    r2   = r2_score(y_test, y_pred)\n",
    "    mae  = mean_absolute_error(y_test, y_pred)\n",
    "    rmse = np.sqrt(mean_squared_error(y_test, y_pred))\n",
    "    rmse_pct = (rmse / nitrate_range) * 100\n",
    "    results.append({\n",
    "        \"Model\": name,\n",
    "        \"R²\": round(r2, 3),\n",
    "        \"MAE\": round(mae, 3),\n",
    "        \"RMSE\": round(rmse, 3),\n",
    "        \"RMSE (%)\": f\"{rmse_pct:.2f}%\"\n",
    "    })"
   ]
  },
  {
   "cell_type": "code",
   "execution_count": 9,
   "id": "09f5a650-6031-4922-b225-837db890a785",
   "metadata": {},
   "outputs": [
    {
     "data": {
      "text/html": [
       "<div>\n",
       "<style scoped>\n",
       "    .dataframe tbody tr th:only-of-type {\n",
       "        vertical-align: middle;\n",
       "    }\n",
       "\n",
       "    .dataframe tbody tr th {\n",
       "        vertical-align: top;\n",
       "    }\n",
       "\n",
       "    .dataframe thead th {\n",
       "        text-align: right;\n",
       "    }\n",
       "</style>\n",
       "<table border=\"1\" class=\"dataframe\">\n",
       "  <thead>\n",
       "    <tr style=\"text-align: right;\">\n",
       "      <th></th>\n",
       "      <th>Model</th>\n",
       "      <th>R²</th>\n",
       "      <th>MAE</th>\n",
       "      <th>RMSE</th>\n",
       "      <th>RMSE (%)</th>\n",
       "    </tr>\n",
       "  </thead>\n",
       "  <tbody>\n",
       "    <tr>\n",
       "      <th>0</th>\n",
       "      <td>Linear Regression (with lag)</td>\n",
       "      <td>0.906</td>\n",
       "      <td>0.579</td>\n",
       "      <td>0.741</td>\n",
       "      <td>7.72%</td>\n",
       "    </tr>\n",
       "    <tr>\n",
       "      <th>2</th>\n",
       "      <td>Random Forest</td>\n",
       "      <td>0.560</td>\n",
       "      <td>1.199</td>\n",
       "      <td>1.599</td>\n",
       "      <td>16.67%</td>\n",
       "    </tr>\n",
       "    <tr>\n",
       "      <th>3</th>\n",
       "      <td>Gradient Boosting</td>\n",
       "      <td>0.540</td>\n",
       "      <td>1.235</td>\n",
       "      <td>1.636</td>\n",
       "      <td>17.05%</td>\n",
       "    </tr>\n",
       "    <tr>\n",
       "      <th>1</th>\n",
       "      <td>Polynomial Regression (deg=3)</td>\n",
       "      <td>0.500</td>\n",
       "      <td>1.321</td>\n",
       "      <td>1.705</td>\n",
       "      <td>17.76%</td>\n",
       "    </tr>\n",
       "  </tbody>\n",
       "</table>\n",
       "</div>"
      ],
      "text/plain": [
       "                           Model     R²    MAE   RMSE RMSE (%)\n",
       "0   Linear Regression (with lag)  0.906  0.579  0.741    7.72%\n",
       "2                  Random Forest  0.560  1.199  1.599   16.67%\n",
       "3              Gradient Boosting  0.540  1.235  1.636   17.05%\n",
       "1  Polynomial Regression (deg=3)  0.500  1.321  1.705   17.76%"
      ]
     },
     "metadata": {},
     "output_type": "display_data"
    }
   ],
   "source": [
    "# 7. Display comparison table\n",
    "results_df = pd.DataFrame(results).sort_values(by=\"R²\", ascending=False)\n",
    "display(results_df)"
   ]
  }
 ],
 "metadata": {
  "kernelspec": {
   "display_name": "Python [conda env:base] *",
   "language": "python",
   "name": "conda-base-py"
  },
  "language_info": {
   "codemirror_mode": {
    "name": "ipython",
    "version": 3
   },
   "file_extension": ".py",
   "mimetype": "text/x-python",
   "name": "python",
   "nbconvert_exporter": "python",
   "pygments_lexer": "ipython3",
   "version": "3.12.7"
  }
 },
 "nbformat": 4,
 "nbformat_minor": 5
}
