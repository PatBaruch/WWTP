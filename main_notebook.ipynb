{
 "cells": [
  {
   "cell_type": "code",
   "execution_count": 41,
   "id": "989d2ca0",
   "metadata": {},
   "outputs": [],
   "source": [
    "import pandas as pd"
   ]
  },
  {
   "cell_type": "markdown",
   "id": "c40dee98",
   "metadata": {},
   "source": [
    "Load everything we need first.\n",
    "\n",
    "Reminder: Download the latest 'data' folder from Teams and replace yours before start working."
   ]
  },
  {
   "cell_type": "code",
   "execution_count": 42,
   "id": "ddc75141",
   "metadata": {},
   "outputs": [],
   "source": [
    "df_influent = pd.read_parquet('data/raw-data/Influent_2023.parquet')\n",
    "df_oxygen_A = pd.read_parquet('data/raw-data/oxygen_a_2023.parquet')\n",
    "df_oxygen_B = pd.read_parquet('data/raw-data/oxygen_b_2023.parquet')\n",
    "df_ammonium = pd.read_parquet('data/raw-data/ammonium_2023.parquet')\n",
    "df_nitrite = pd.read_parquet('data/raw-data/nitrate_2023.parquet')\n",
    "df_phosphate = pd.read_parquet('data/raw-data/phosphate_2023.parquet')\n",
    "df_effluent = pd.read_excel('data/raw-data/effluent_2023.xlsx')\n",
    "df_weather = pd.read_csv('data/weather-data/weather_2023.csv', sep=',')"
   ]
  },
  {
   "cell_type": "markdown",
   "id": "969b7d11",
   "metadata": {},
   "source": [
    "Check the year of these dataframes are 2023, and see their columns names & records frenquency."
   ]
  },
  {
   "cell_type": "code",
   "execution_count": 43,
   "id": "8e46e049",
   "metadata": {},
   "outputs": [],
   "source": [
    "# influent data - recorded every minute\n",
    "# df_influent.head()\n",
    "\n",
    "# oxygen data (A & B) - need to be merged (take the average) first - recorded every minute\n",
    "# df_oxygen_A.head()\n",
    "# df_oxygen_B.head()\n",
    "\n",
    "# chemical data (ammonium, nitrite, phosphate) - recorded every minute\n",
    "# df_ammonium.head()\n",
    "# df_nitrite.head()\n",
    "# df_phosphate.head()\n",
    "\n",
    "# effluent data - recorded every 15 minutes\n",
    "# df_effluent.head() 15min\n",
    "\n",
    "# weather data - recorded every hour\n",
    "# df_weather.head()"
   ]
  },
  {
   "cell_type": "markdown",
   "id": "1a4763e8",
   "metadata": {},
   "source": [
    "Define a function to find and ffill missing timestamps in two oxygen datasets."
   ]
  },
  {
   "cell_type": "code",
   "execution_count": 44,
   "id": "be52c6e4",
   "metadata": {},
   "outputs": [],
   "source": [
    "def process_oxygen_data(df):\n",
    "    \"\"\"\n",
    "    Cleans oxygen measurement data by:\n",
    "    - Converting timestamps to datetime format\n",
    "    - Removing duplicate timestamps (keeping the first occurrence)\n",
    "    - Ensuring a continuous time index at 1-minute intervals\n",
    "    - Forward filling missing 'hstWaarde' values\n",
    "\n",
    "    Parameters:\n",
    "        df (pd.DataFrame): Raw oxygen sensor data\n",
    "\n",
    "    Returns:\n",
    "        pd.DataFrame: Cleaned data with a datetime index\n",
    "    \"\"\"\n",
    "    # Reset index if datumBeginMeting is already the index\n",
    "    if 'datumBeginMeting' not in df.columns and df.index.name == 'datumBeginMeting':\n",
    "        df = df.reset_index()\n",
    "\n",
    "    # Step 1: Ensure the timestamp column is in datetime format\n",
    "    df['datumBeginMeting'] = pd.to_datetime(df['datumBeginMeting'])\n",
    "\n",
    "    # Step 2: Remove duplicate timestamps (keep the first occurrence)\n",
    "    df = df.drop_duplicates(subset='datumBeginMeting', keep='first')\n",
    "\n",
    "    # Step 3: Set the timestamp as the index\n",
    "    df.set_index('datumBeginMeting', inplace=True)\n",
    "\n",
    "    # Step 4: Generate a complete time range with 1-minute frequency\n",
    "    full_range = pd.date_range(start=df.index.min(), end=df.index.max(), freq='T')\n",
    "\n",
    "    # Step 5: Reindex the DataFrame to include missing timestamps\n",
    "    df = df.reindex(full_range)\n",
    "\n",
    "    # Step 6: Report missing values\n",
    "    missing_count = df['hstWaarde'].isna().sum()\n",
    "    print(f\"Number of missing timestamps: {missing_count}\")\n",
    "    if missing_count > 0:\n",
    "        print(\"Example missing timestamps:\", df[df['hstWaarde'].isna()].index[:5])\n",
    "\n",
    "    # Step 7: Forward fill missing 'hstWaarde' values\n",
    "    df.ffill(inplace=True)\n",
    "\n",
    "    # Step 8: Set index name\n",
    "    df.index.name = 'datumBeginMeting'\n",
    "\n",
    "    return df"
   ]
  },
  {
   "cell_type": "markdown",
   "id": "1dbedcda",
   "metadata": {},
   "source": [
    "Apply the function to both oxygen dataframes and run twice to check if the missing valus filled."
   ]
  },
  {
   "cell_type": "code",
   "execution_count": 45,
   "id": "5122b441",
   "metadata": {},
   "outputs": [
    {
     "name": "stdout",
     "output_type": "stream",
     "text": [
      "Number of missing timestamps: 611\n",
      "Example missing timestamps: DatetimeIndex(['2023-01-03 09:09:00', '2023-01-03 09:10:00',\n",
      "               '2023-01-03 09:11:00', '2023-01-03 09:12:00',\n",
      "               '2023-01-03 09:13:00'],\n",
      "              dtype='datetime64[ns]', freq=None)\n"
     ]
    },
    {
     "name": "stderr",
     "output_type": "stream",
     "text": [
      "/var/folders/6m/nmdc67354c9f77107p22bnd00000gn/T/ipykernel_57222/442564830.py:29: FutureWarning: 'T' is deprecated and will be removed in a future version, please use 'min' instead.\n",
      "  full_range = pd.date_range(start=df.index.min(), end=df.index.max(), freq='T')\n"
     ]
    }
   ],
   "source": [
    "df_oxygen_A = process_oxygen_data(df_oxygen_A)"
   ]
  },
  {
   "cell_type": "code",
   "execution_count": 46,
   "id": "dc04c116",
   "metadata": {},
   "outputs": [
    {
     "name": "stderr",
     "output_type": "stream",
     "text": [
      "/var/folders/6m/nmdc67354c9f77107p22bnd00000gn/T/ipykernel_57222/442564830.py:29: FutureWarning: 'T' is deprecated and will be removed in a future version, please use 'min' instead.\n",
      "  full_range = pd.date_range(start=df.index.min(), end=df.index.max(), freq='T')\n"
     ]
    },
    {
     "name": "stdout",
     "output_type": "stream",
     "text": [
      "Number of missing timestamps: 0\n"
     ]
    }
   ],
   "source": [
    "df_oxygen_A = process_oxygen_data(df_oxygen_A)"
   ]
  },
  {
   "cell_type": "code",
   "execution_count": 47,
   "id": "b9aa629e",
   "metadata": {},
   "outputs": [
    {
     "name": "stderr",
     "output_type": "stream",
     "text": [
      "/var/folders/6m/nmdc67354c9f77107p22bnd00000gn/T/ipykernel_57222/442564830.py:29: FutureWarning: 'T' is deprecated and will be removed in a future version, please use 'min' instead.\n",
      "  full_range = pd.date_range(start=df.index.min(), end=df.index.max(), freq='T')\n"
     ]
    },
    {
     "name": "stdout",
     "output_type": "stream",
     "text": [
      "Number of missing timestamps: 611\n",
      "Example missing timestamps: DatetimeIndex(['2023-01-03 09:09:00', '2023-01-03 09:10:00',\n",
      "               '2023-01-03 09:11:00', '2023-01-03 09:12:00',\n",
      "               '2023-01-03 09:13:00'],\n",
      "              dtype='datetime64[ns]', freq=None)\n"
     ]
    }
   ],
   "source": [
    "df_oxygen_B = process_oxygen_data(df_oxygen_B)"
   ]
  },
  {
   "cell_type": "code",
   "execution_count": 48,
   "id": "862391a7",
   "metadata": {},
   "outputs": [
    {
     "name": "stderr",
     "output_type": "stream",
     "text": [
      "/var/folders/6m/nmdc67354c9f77107p22bnd00000gn/T/ipykernel_57222/442564830.py:29: FutureWarning: 'T' is deprecated and will be removed in a future version, please use 'min' instead.\n",
      "  full_range = pd.date_range(start=df.index.min(), end=df.index.max(), freq='T')\n"
     ]
    },
    {
     "name": "stdout",
     "output_type": "stream",
     "text": [
      "Number of missing timestamps: 0\n"
     ]
    }
   ],
   "source": [
    "df_oxygen_B = process_oxygen_data(df_oxygen_B)"
   ]
  },
  {
   "cell_type": "markdown",
   "id": "17d59900",
   "metadata": {},
   "source": [
    "Merge the oxygen datasets and take the average from them as the new column."
   ]
  },
  {
   "cell_type": "code",
   "execution_count": 49,
   "id": "0ec4379c",
   "metadata": {},
   "outputs": [
    {
     "data": {
      "text/html": [
       "<div>\n",
       "<style scoped>\n",
       "    .dataframe tbody tr th:only-of-type {\n",
       "        vertical-align: middle;\n",
       "    }\n",
       "\n",
       "    .dataframe tbody tr th {\n",
       "        vertical-align: top;\n",
       "    }\n",
       "\n",
       "    .dataframe thead th {\n",
       "        text-align: right;\n",
       "    }\n",
       "</style>\n",
       "<table border=\"1\" class=\"dataframe\">\n",
       "  <thead>\n",
       "    <tr style=\"text-align: right;\">\n",
       "      <th></th>\n",
       "      <th>datumBeginMeting</th>\n",
       "      <th>oxygen_a</th>\n",
       "      <th>oxygen_b</th>\n",
       "      <th>oxygen_avg</th>\n",
       "    </tr>\n",
       "  </thead>\n",
       "  <tbody>\n",
       "    <tr>\n",
       "      <th>0</th>\n",
       "      <td>2023-01-01 00:00:00</td>\n",
       "      <td>1.663</td>\n",
       "      <td>0.777</td>\n",
       "      <td>1.2200</td>\n",
       "    </tr>\n",
       "    <tr>\n",
       "      <th>1</th>\n",
       "      <td>2023-01-01 00:01:00</td>\n",
       "      <td>1.789</td>\n",
       "      <td>0.982</td>\n",
       "      <td>1.3855</td>\n",
       "    </tr>\n",
       "    <tr>\n",
       "      <th>2</th>\n",
       "      <td>2023-01-01 00:02:00</td>\n",
       "      <td>2.105</td>\n",
       "      <td>1.189</td>\n",
       "      <td>1.6470</td>\n",
       "    </tr>\n",
       "    <tr>\n",
       "      <th>3</th>\n",
       "      <td>2023-01-01 00:03:00</td>\n",
       "      <td>2.271</td>\n",
       "      <td>1.266</td>\n",
       "      <td>1.7685</td>\n",
       "    </tr>\n",
       "    <tr>\n",
       "      <th>4</th>\n",
       "      <td>2023-01-01 00:04:00</td>\n",
       "      <td>2.168</td>\n",
       "      <td>1.403</td>\n",
       "      <td>1.7855</td>\n",
       "    </tr>\n",
       "  </tbody>\n",
       "</table>\n",
       "</div>"
      ],
      "text/plain": [
       "     datumBeginMeting  oxygen_a  oxygen_b  oxygen_avg\n",
       "0 2023-01-01 00:00:00     1.663     0.777      1.2200\n",
       "1 2023-01-01 00:01:00     1.789     0.982      1.3855\n",
       "2 2023-01-01 00:02:00     2.105     1.189      1.6470\n",
       "3 2023-01-01 00:03:00     2.271     1.266      1.7685\n",
       "4 2023-01-01 00:04:00     2.168     1.403      1.7855"
      ]
     },
     "execution_count": 49,
     "metadata": {},
     "output_type": "execute_result"
    }
   ],
   "source": [
    "# reset index to get 'datumBeginMeting' back as a column and rename 'hstWaarde' columns to 'oxygen_a' and 'oxygen_b'\n",
    "a_clean = df_oxygen_A.reset_index()[['datumBeginMeting', 'hstWaarde']].rename(columns={'hstWaarde': 'oxygen_a'})\n",
    "b_clean = df_oxygen_B.reset_index()[['datumBeginMeting', 'hstWaarde']].rename(columns={'hstWaarde': 'oxygen_b'})\n",
    "\n",
    "# merge two oxygen dataframes on 'datumBeginMeting'\n",
    "df_oxygen = pd.merge(a_clean, b_clean, on='datumBeginMeting', how='inner')\n",
    "\n",
    "# convert to numeric\n",
    "df_oxygen['oxygen_a'] = pd.to_numeric(df_oxygen['oxygen_a'], errors='coerce')\n",
    "df_oxygen['oxygen_b'] = pd.to_numeric(df_oxygen['oxygen_b'], errors='coerce')\n",
    "\n",
    "# take the average of the two oxygen columns\n",
    "df_oxygen['oxygen_avg'] = (df_oxygen['oxygen_a'] + df_oxygen['oxygen_b']) / 2\n",
    "\n",
    "df_oxygen.head()"
   ]
  },
  {
   "cell_type": "markdown",
   "id": "650f5129",
   "metadata": {},
   "source": [
    "Define a function find and ffill missing timestamps in influent and chemicals datasets."
   ]
  },
  {
   "cell_type": "code",
   "execution_count": 50,
   "id": "10eedef0",
   "metadata": {},
   "outputs": [],
   "source": [
    "def fill_missing_timestamps(df, time_col='datumBeginMeting', freq='T', value_cols=None):\n",
    "    \"\"\"\n",
    "    Ensure the time column is datetime, remove duplicates, fill missing timestamps with forward fill.\n",
    "    Prints number of missing timestamps before and after filling.\n",
    "    \n",
    "    Parameters:\n",
    "    - df: input dataframe\n",
    "    - time_col: name of datetime column (default 'datumBeginMeting')\n",
    "    - freq: frequency string for complete timestamp index (e.g., 'T' for minute)\n",
    "    - value_cols: list of columns to keep (except time_col). If None, keeps all except time_col.\n",
    "    \n",
    "    Returns:\n",
    "    - processed dataframe with no missing timestamps, index is time_col\n",
    "    \"\"\"\n",
    "    df = df.copy()\n",
    "    \n",
    "    # Convert time column to datetime\n",
    "    df[time_col] = pd.to_datetime(df[time_col])\n",
    "    \n",
    "    # Remove duplicates in time_col, keep first\n",
    "    df = df.drop_duplicates(subset=time_col, keep='first')\n",
    "    \n",
    "    # Set datetime as index\n",
    "    df.set_index(time_col, inplace=True)\n",
    "    \n",
    "    # Keep only specified columns if provided\n",
    "    if value_cols is not None:\n",
    "        df = df[value_cols]\n",
    "    \n",
    "    # Calculate full timestamp range with given frequency\n",
    "    full_range = pd.date_range(start=df.index.min(), end=df.index.max(), freq=freq)\n",
    "    \n",
    "    # Calculate missing timestamps count before reindexing\n",
    "    missing_before = len(full_range) - len(df)\n",
    "    print(f\"Missing timestamps before filling: {missing_before}\")\n",
    "    \n",
    "    # Reindex to include missing timestamps\n",
    "    df = df.reindex(full_range)\n",
    "    \n",
    "    # Fill missing values forward\n",
    "    df.ffill(inplace=True)\n",
    "    \n",
    "    # Calculate missing timestamps count after filling\n",
    "    missing_after = df.isna().sum().sum()\n",
    "    print(f\"Missing timestamps after filling: {missing_after}\")\n",
    "    \n",
    "    # Rename index back to time_col\n",
    "    df.index.name = time_col\n",
    "    \n",
    "    return df"
   ]
  },
  {
   "cell_type": "code",
   "execution_count": 51,
   "id": "698bf94a",
   "metadata": {},
   "outputs": [
    {
     "name": "stderr",
     "output_type": "stream",
     "text": [
      "/var/folders/6m/nmdc67354c9f77107p22bnd00000gn/T/ipykernel_57222/1828636121.py:31: FutureWarning: 'T' is deprecated and will be removed in a future version, please use 'min' instead.\n",
      "  full_range = pd.date_range(start=df.index.min(), end=df.index.max(), freq=freq)\n",
      "/var/folders/6m/nmdc67354c9f77107p22bnd00000gn/T/ipykernel_57222/1828636121.py:31: FutureWarning: 'T' is deprecated and will be removed in a future version, please use 'min' instead.\n",
      "  full_range = pd.date_range(start=df.index.min(), end=df.index.max(), freq=freq)\n",
      "/var/folders/6m/nmdc67354c9f77107p22bnd00000gn/T/ipykernel_57222/1828636121.py:31: FutureWarning: 'T' is deprecated and will be removed in a future version, please use 'min' instead.\n",
      "  full_range = pd.date_range(start=df.index.min(), end=df.index.max(), freq=freq)\n"
     ]
    },
    {
     "name": "stdout",
     "output_type": "stream",
     "text": [
      "Missing timestamps before filling: 421\n",
      "Missing timestamps after filling: 0\n",
      "Missing timestamps before filling: 0\n",
      "Missing timestamps after filling: 0\n",
      "Missing timestamps before filling: 611\n",
      "Missing timestamps after filling: 0\n",
      "Missing timestamps before filling: 611\n",
      "Missing timestamps after filling: 0\n",
      "Missing timestamps before filling: 611\n",
      "Missing timestamps after filling: 0\n"
     ]
    },
    {
     "name": "stderr",
     "output_type": "stream",
     "text": [
      "/var/folders/6m/nmdc67354c9f77107p22bnd00000gn/T/ipykernel_57222/1828636121.py:31: FutureWarning: 'T' is deprecated and will be removed in a future version, please use 'min' instead.\n",
      "  full_range = pd.date_range(start=df.index.min(), end=df.index.max(), freq=freq)\n",
      "/var/folders/6m/nmdc67354c9f77107p22bnd00000gn/T/ipykernel_57222/1828636121.py:31: FutureWarning: 'T' is deprecated and will be removed in a future version, please use 'min' instead.\n",
      "  full_range = pd.date_range(start=df.index.min(), end=df.index.max(), freq=freq)\n"
     ]
    }
   ],
   "source": [
    "# Process influent data\n",
    "df_influent_filled = fill_missing_timestamps(df_influent, time_col='datumBeginMeting', freq='T', value_cols=['hstWaarde'])\n",
    "\n",
    "# Process oxygen data\n",
    "df_oxygen_filled = fill_missing_timestamps(df_oxygen, time_col='datumBeginMeting', freq='T', value_cols=['oxygen_avg'])\n",
    "\n",
    "# Process ammonium data\n",
    "df_ammonium_filled = fill_missing_timestamps(df_ammonium, time_col='datumBeginMeting', freq='T', value_cols=['hstWaarde'])\n",
    "\n",
    "# Process nitrite data\n",
    "df_nitrate_filled = fill_missing_timestamps(df_nitrite, time_col='datumBeginMeting', freq='T', value_cols=['hstWaarde'])\n",
    "\n",
    "# Process phosphate data\n",
    "df_phosphate_filled = fill_missing_timestamps(df_phosphate, time_col='datumBeginMeting', freq='T', value_cols=['hstWaarde'])"
   ]
  },
  {
   "cell_type": "markdown",
   "id": "fe429a7a",
   "metadata": {},
   "source": [
    "From the results above, we can see that Oxygen A, Oxygen B, and all the chemical datasets each had 611 missing timestamps, while Influent had 421 missing timestamps.\n",
    "These missing values were filled using forward fill (ffill) since the data are time series."
   ]
  },
  {
   "cell_type": "code",
   "execution_count": 52,
   "id": "2f50f9d9",
   "metadata": {},
   "outputs": [
    {
     "name": "stderr",
     "output_type": "stream",
     "text": [
      "/var/folders/6m/nmdc67354c9f77107p22bnd00000gn/T/ipykernel_57222/3555450314.py:22: FutureWarning: 'H' is deprecated and will be removed in a future version, please use 'h' instead.\n",
      "  df_water = df_water.resample('H').mean().reset_index()\n"
     ]
    },
    {
     "data": {
      "text/html": [
       "<div>\n",
       "<style scoped>\n",
       "    .dataframe tbody tr th:only-of-type {\n",
       "        vertical-align: middle;\n",
       "    }\n",
       "\n",
       "    .dataframe tbody tr th {\n",
       "        vertical-align: top;\n",
       "    }\n",
       "\n",
       "    .dataframe thead th {\n",
       "        text-align: right;\n",
       "    }\n",
       "</style>\n",
       "<table border=\"1\" class=\"dataframe\">\n",
       "  <thead>\n",
       "    <tr style=\"text-align: right;\">\n",
       "      <th></th>\n",
       "      <th>datumBeginMeting</th>\n",
       "      <th>Influent</th>\n",
       "      <th>oxygen_avg</th>\n",
       "      <th>Ammonium</th>\n",
       "      <th>Nitrate</th>\n",
       "      <th>Phosphate</th>\n",
       "    </tr>\n",
       "  </thead>\n",
       "  <tbody>\n",
       "    <tr>\n",
       "      <th>0</th>\n",
       "      <td>2023-01-01 00:00:00</td>\n",
       "      <td>3202.204867</td>\n",
       "      <td>0.919150</td>\n",
       "      <td>1.037983</td>\n",
       "      <td>4.424633</td>\n",
       "      <td>0.003450</td>\n",
       "    </tr>\n",
       "    <tr>\n",
       "      <th>1</th>\n",
       "      <td>2023-01-01 01:00:00</td>\n",
       "      <td>2790.287717</td>\n",
       "      <td>0.895517</td>\n",
       "      <td>1.938650</td>\n",
       "      <td>3.062367</td>\n",
       "      <td>0.380733</td>\n",
       "    </tr>\n",
       "    <tr>\n",
       "      <th>2</th>\n",
       "      <td>2023-01-01 02:00:00</td>\n",
       "      <td>2281.950900</td>\n",
       "      <td>1.113550</td>\n",
       "      <td>1.885600</td>\n",
       "      <td>3.344783</td>\n",
       "      <td>0.169217</td>\n",
       "    </tr>\n",
       "    <tr>\n",
       "      <th>3</th>\n",
       "      <td>2023-01-01 03:00:00</td>\n",
       "      <td>2377.076550</td>\n",
       "      <td>0.584708</td>\n",
       "      <td>0.933100</td>\n",
       "      <td>2.867483</td>\n",
       "      <td>0.161217</td>\n",
       "    </tr>\n",
       "    <tr>\n",
       "      <th>4</th>\n",
       "      <td>2023-01-01 04:00:00</td>\n",
       "      <td>1517.581467</td>\n",
       "      <td>0.552192</td>\n",
       "      <td>0.772933</td>\n",
       "      <td>2.491967</td>\n",
       "      <td>0.112783</td>\n",
       "    </tr>\n",
       "  </tbody>\n",
       "</table>\n",
       "</div>"
      ],
      "text/plain": [
       "     datumBeginMeting     Influent  oxygen_avg  Ammonium   Nitrate  Phosphate\n",
       "0 2023-01-01 00:00:00  3202.204867    0.919150  1.037983  4.424633   0.003450\n",
       "1 2023-01-01 01:00:00  2790.287717    0.895517  1.938650  3.062367   0.380733\n",
       "2 2023-01-01 02:00:00  2281.950900    1.113550  1.885600  3.344783   0.169217\n",
       "3 2023-01-01 03:00:00  2377.076550    0.584708  0.933100  2.867483   0.161217\n",
       "4 2023-01-01 04:00:00  1517.581467    0.552192  0.772933  2.491967   0.112783"
      ]
     },
     "execution_count": 52,
     "metadata": {},
     "output_type": "execute_result"
    }
   ],
   "source": [
    "# Prepare for merging — reset index and rename columns\n",
    "influent_clean = df_influent_filled.reset_index().rename(columns={'hstWaarde': 'Influent'})\n",
    "oxygen_clean = df_oxygen_filled.reset_index().rename(columns={'hstWaarde': 'Oxygen'})\n",
    "ammonium_clean = df_ammonium_filled.reset_index().rename(columns={'hstWaarde': 'Ammonium'})\n",
    "nitrate_clean = df_nitrate_filled.reset_index().rename(columns={'hstWaarde': 'Nitrate'})\n",
    "phosphate_clean = df_phosphate_filled.reset_index().rename(columns={'hstWaarde': 'Phosphate'})\n",
    "\n",
    "# Merge all datasets on the timestamp column\n",
    "df_water = influent_clean.merge(oxygen_clean, on='datumBeginMeting', how='inner') \\\n",
    "                        .merge(ammonium_clean, on='datumBeginMeting', how='inner') \\\n",
    "                        .merge(nitrate_clean, on='datumBeginMeting', how='inner') \\\n",
    "                        .merge(phosphate_clean, on='datumBeginMeting', how='inner')\n",
    "\n",
    "# Convert datumBeginMeting to datetime and set as index\n",
    "df_water['datumBeginMeting'] = pd.to_datetime(df_water['datumBeginMeting'])\n",
    "df_water.set_index('datumBeginMeting', inplace=True)\n",
    "\n",
    "# Convert all columns to numeric, coercing errors to NaN\n",
    "df_water = df_water.apply(pd.to_numeric, errors='coerce')\n",
    "\n",
    "# Resample hourly and take the mean\n",
    "df_water = df_water.resample('H').mean().reset_index()\n",
    "\n",
    "df_water.head()"
   ]
  },
  {
   "cell_type": "markdown",
   "id": "06e6bcca",
   "metadata": {},
   "source": [
    "After reviewing the weather dataset, I found that the Rain column only contains binary values: 0 indicates no rain, and 1 indicates rain. So, I decided to use the PrecipitationAmount column this time, which records the actual hourly precipitation amount in millimeters (mm). Additionally, the temperature values in the dataset have already been adjusted by dividing them by 10, so the unit is now degrees Celsius (°C)."
   ]
  },
  {
   "cell_type": "code",
   "execution_count": 53,
   "id": "ef03d7db",
   "metadata": {},
   "outputs": [
    {
     "data": {
      "text/html": [
       "<div>\n",
       "<style scoped>\n",
       "    .dataframe tbody tr th:only-of-type {\n",
       "        vertical-align: middle;\n",
       "    }\n",
       "\n",
       "    .dataframe tbody tr th {\n",
       "        vertical-align: top;\n",
       "    }\n",
       "\n",
       "    .dataframe thead th {\n",
       "        text-align: right;\n",
       "    }\n",
       "</style>\n",
       "<table border=\"1\" class=\"dataframe\">\n",
       "  <thead>\n",
       "    <tr style=\"text-align: right;\">\n",
       "      <th></th>\n",
       "      <th>date</th>\n",
       "      <th>Influent</th>\n",
       "      <th>oxygen_avg</th>\n",
       "      <th>Ammonium</th>\n",
       "      <th>Nitrate</th>\n",
       "      <th>Phosphate</th>\n",
       "      <th>Rainfall</th>\n",
       "      <th>Temperature</th>\n",
       "    </tr>\n",
       "  </thead>\n",
       "  <tbody>\n",
       "    <tr>\n",
       "      <th>0</th>\n",
       "      <td>2023-01-01 00:00:00</td>\n",
       "      <td>3202.204867</td>\n",
       "      <td>0.919150</td>\n",
       "      <td>1.037983</td>\n",
       "      <td>4.424633</td>\n",
       "      <td>0.003450</td>\n",
       "      <td>0</td>\n",
       "      <td>15.3</td>\n",
       "    </tr>\n",
       "    <tr>\n",
       "      <th>1</th>\n",
       "      <td>2023-01-01 01:00:00</td>\n",
       "      <td>2790.287717</td>\n",
       "      <td>0.895517</td>\n",
       "      <td>1.938650</td>\n",
       "      <td>3.062367</td>\n",
       "      <td>0.380733</td>\n",
       "      <td>0</td>\n",
       "      <td>14.6</td>\n",
       "    </tr>\n",
       "    <tr>\n",
       "      <th>2</th>\n",
       "      <td>2023-01-01 02:00:00</td>\n",
       "      <td>2281.950900</td>\n",
       "      <td>1.113550</td>\n",
       "      <td>1.885600</td>\n",
       "      <td>3.344783</td>\n",
       "      <td>0.169217</td>\n",
       "      <td>0</td>\n",
       "      <td>15.0</td>\n",
       "    </tr>\n",
       "    <tr>\n",
       "      <th>3</th>\n",
       "      <td>2023-01-01 03:00:00</td>\n",
       "      <td>2377.076550</td>\n",
       "      <td>0.584708</td>\n",
       "      <td>0.933100</td>\n",
       "      <td>2.867483</td>\n",
       "      <td>0.161217</td>\n",
       "      <td>0</td>\n",
       "      <td>14.7</td>\n",
       "    </tr>\n",
       "    <tr>\n",
       "      <th>4</th>\n",
       "      <td>2023-01-01 04:00:00</td>\n",
       "      <td>1517.581467</td>\n",
       "      <td>0.552192</td>\n",
       "      <td>0.772933</td>\n",
       "      <td>2.491967</td>\n",
       "      <td>0.112783</td>\n",
       "      <td>0</td>\n",
       "      <td>14.1</td>\n",
       "    </tr>\n",
       "  </tbody>\n",
       "</table>\n",
       "</div>"
      ],
      "text/plain": [
       "                 date     Influent  oxygen_avg  Ammonium   Nitrate  Phosphate  \\\n",
       "0 2023-01-01 00:00:00  3202.204867    0.919150  1.037983  4.424633   0.003450   \n",
       "1 2023-01-01 01:00:00  2790.287717    0.895517  1.938650  3.062367   0.380733   \n",
       "2 2023-01-01 02:00:00  2281.950900    1.113550  1.885600  3.344783   0.169217   \n",
       "3 2023-01-01 03:00:00  2377.076550    0.584708  0.933100  2.867483   0.161217   \n",
       "4 2023-01-01 04:00:00  1517.581467    0.552192  0.772933  2.491967   0.112783   \n",
       "\n",
       "   Rainfall  Temperature  \n",
       "0         0         15.3  \n",
       "1         0         14.6  \n",
       "2         0         15.0  \n",
       "3         0         14.7  \n",
       "4         0         14.1  "
      ]
     },
     "execution_count": 53,
     "metadata": {},
     "output_type": "execute_result"
    }
   ],
   "source": [
    "# Convert datetime columns to datetime type\n",
    "df_weather['Timestamp'] = pd.to_datetime(df_weather['Timestamp'])\n",
    "df_water['datumBeginMeting'] = pd.to_datetime(df_water['datumBeginMeting'])\n",
    "\n",
    "# Rename datetime columns to 'date'\n",
    "df_weather = df_weather.rename(columns={'Timestamp': 'date', 'PrecipitationAmount': 'Rainfall'})\n",
    "df_water = df_water.rename(columns={'datumBeginMeting': 'date'})\n",
    "\n",
    "# Merge the two dataframes on 'date'\n",
    "df_main = pd.merge(df_water, df_weather, on='date', how='inner')\n",
    "\n",
    "df_main.to_csv(\"data/main_2023.csv\", index=False)\n",
    "\n",
    "# Display the first few rows of the merged dataframe\n",
    "df_main.head()\n"
   ]
  },
  {
   "cell_type": "markdown",
   "id": "63143e2f",
   "metadata": {},
   "source": [
    "Apply min-max scaling to the main dataset."
   ]
  },
  {
   "cell_type": "code",
   "execution_count": 54,
   "id": "a9039ef6",
   "metadata": {},
   "outputs": [
    {
     "data": {
      "text/html": [
       "<div>\n",
       "<style scoped>\n",
       "    .dataframe tbody tr th:only-of-type {\n",
       "        vertical-align: middle;\n",
       "    }\n",
       "\n",
       "    .dataframe tbody tr th {\n",
       "        vertical-align: top;\n",
       "    }\n",
       "\n",
       "    .dataframe thead th {\n",
       "        text-align: right;\n",
       "    }\n",
       "</style>\n",
       "<table border=\"1\" class=\"dataframe\">\n",
       "  <thead>\n",
       "    <tr style=\"text-align: right;\">\n",
       "      <th></th>\n",
       "      <th>date</th>\n",
       "      <th>Influent</th>\n",
       "      <th>oxygen_avg</th>\n",
       "      <th>Ammonium</th>\n",
       "      <th>Nitrate</th>\n",
       "      <th>Phosphate</th>\n",
       "      <th>Rainfall</th>\n",
       "      <th>Temperature</th>\n",
       "    </tr>\n",
       "  </thead>\n",
       "  <tbody>\n",
       "    <tr>\n",
       "      <th>0</th>\n",
       "      <td>2023-01-01 00:00:00</td>\n",
       "      <td>0.441427</td>\n",
       "      <td>0.306547</td>\n",
       "      <td>0.051943</td>\n",
       "      <td>0.420280</td>\n",
       "      <td>0.000095</td>\n",
       "      <td>0.0</td>\n",
       "      <td>0.556391</td>\n",
       "    </tr>\n",
       "    <tr>\n",
       "      <th>1</th>\n",
       "      <td>2023-01-01 01:00:00</td>\n",
       "      <td>0.381769</td>\n",
       "      <td>0.298638</td>\n",
       "      <td>0.097014</td>\n",
       "      <td>0.278328</td>\n",
       "      <td>0.063068</td>\n",
       "      <td>0.0</td>\n",
       "      <td>0.538847</td>\n",
       "    </tr>\n",
       "    <tr>\n",
       "      <th>2</th>\n",
       "      <td>2023-01-01 02:00:00</td>\n",
       "      <td>0.308147</td>\n",
       "      <td>0.371606</td>\n",
       "      <td>0.094359</td>\n",
       "      <td>0.307757</td>\n",
       "      <td>0.027763</td>\n",
       "      <td>0.0</td>\n",
       "      <td>0.548872</td>\n",
       "    </tr>\n",
       "    <tr>\n",
       "      <th>3</th>\n",
       "      <td>2023-01-01 03:00:00</td>\n",
       "      <td>0.321924</td>\n",
       "      <td>0.194623</td>\n",
       "      <td>0.046694</td>\n",
       "      <td>0.258021</td>\n",
       "      <td>0.026428</td>\n",
       "      <td>0.0</td>\n",
       "      <td>0.541353</td>\n",
       "    </tr>\n",
       "    <tr>\n",
       "      <th>4</th>\n",
       "      <td>2023-01-01 04:00:00</td>\n",
       "      <td>0.197444</td>\n",
       "      <td>0.183740</td>\n",
       "      <td>0.038679</td>\n",
       "      <td>0.218891</td>\n",
       "      <td>0.018344</td>\n",
       "      <td>0.0</td>\n",
       "      <td>0.526316</td>\n",
       "    </tr>\n",
       "  </tbody>\n",
       "</table>\n",
       "</div>"
      ],
      "text/plain": [
       "                 date  Influent  oxygen_avg  Ammonium   Nitrate  Phosphate  \\\n",
       "0 2023-01-01 00:00:00  0.441427    0.306547  0.051943  0.420280   0.000095   \n",
       "1 2023-01-01 01:00:00  0.381769    0.298638  0.097014  0.278328   0.063068   \n",
       "2 2023-01-01 02:00:00  0.308147    0.371606  0.094359  0.307757   0.027763   \n",
       "3 2023-01-01 03:00:00  0.321924    0.194623  0.046694  0.258021   0.026428   \n",
       "4 2023-01-01 04:00:00  0.197444    0.183740  0.038679  0.218891   0.018344   \n",
       "\n",
       "   Rainfall  Temperature  \n",
       "0       0.0     0.556391  \n",
       "1       0.0     0.538847  \n",
       "2       0.0     0.548872  \n",
       "3       0.0     0.541353  \n",
       "4       0.0     0.526316  "
      ]
     },
     "execution_count": 54,
     "metadata": {},
     "output_type": "execute_result"
    }
   ],
   "source": [
    "from sklearn.preprocessing import MinMaxScaler\n",
    "\n",
    "# Separate the 'date' column\n",
    "df_features = df_main.drop(columns=['date'])\n",
    "\n",
    "# Initialize the scaler\n",
    "scaler = MinMaxScaler()\n",
    "\n",
    "# Apply min-max scaling to all feature columns\n",
    "df_scaled_values = scaler.fit_transform(df_features)\n",
    "\n",
    "# Create a new DataFrame with scaled values and the same column names\n",
    "df_scaled = pd.DataFrame(df_scaled_values, columns=df_features.columns)\n",
    "\n",
    "# Add the 'date' column back\n",
    "df_scaled['date'] = df_main['date']\n",
    "\n",
    "# Reorder columns to place 'date' first\n",
    "df_scaled = df_scaled[['date'] + df_features.columns.tolist()]\n",
    "\n",
    "df_scaled.to_csv(\"data/scaled_main_2023.csv\", index=False)\n",
    "\n",
    "# Display the first few rows of the scaled DataFrame\n",
    "df_scaled.head()\n"
   ]
  }
 ],
 "metadata": {
  "kernelspec": {
   "display_name": "base",
   "language": "python",
   "name": "python3"
  },
  "language_info": {
   "codemirror_mode": {
    "name": "ipython",
    "version": 3
   },
   "file_extension": ".py",
   "mimetype": "text/x-python",
   "name": "python",
   "nbconvert_exporter": "python",
   "pygments_lexer": "ipython3",
   "version": "3.12.7"
  }
 },
 "nbformat": 4,
 "nbformat_minor": 5
}
